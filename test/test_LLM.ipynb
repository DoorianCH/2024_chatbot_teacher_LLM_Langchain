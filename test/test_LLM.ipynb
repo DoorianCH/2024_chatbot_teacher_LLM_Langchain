{
 "cells": [
  {
   "cell_type": "code",
   "execution_count": null,
   "metadata": {},
   "outputs": [],
   "source": [
    "from openai import OpenAI\n",
    "\n",
    "# OpenAI API 키 설정\n",
    "client = OpenAI(\n",
    "    # This is the default and can be omitted\n",
    "    api_key='',\n",
    ")\n",
    "\n",
    "# 텍스트 파일에서 대화 내용을 읽어오는 함수\n",
    "def read_conversation(file_path):\n",
    "    with open(file_path, 'r', encoding='utf-8') as file:\n",
    "        conversation = file.readlines()\n",
    "    return conversation\n",
    "\n",
    "# 대화 내용을 바탕으로 참여자의 유형을 확인하는 함수\n",
    "def analyze_conversation(conversation):\n",
    "    prompt = \"\"\"\n",
    "     -------\n",
    "    \"\"\"\n",
    "    for line in conversation:\n",
    "        prompt += line.strip() + \"\\n\"\n",
    "    \n",
    "    prompt += \"\\n대화 내용에 기반하여 각 참여자의 대화 유형을 분석해 주시오.\"\n",
    "    \n",
    "    response = client.chat.completions.create(\n",
    "        model=\"gpt-4o\",\n",
    "        messages=[\n",
    "            {\"role\": \"system\", \"content\": \"You are a helpful assistant.\"},\n",
    "            {\"role\": \"user\", \"content\": prompt}\n",
    "        ]\n",
    "    )\n",
    "    print(response)    \n",
    "\n",
    "    return response.choices[0].message.content\n",
    "\n",
    "\n",
    "# 대화 내용 파일 경로\n",
    "file_path = '../data/test.txt'\n",
    "\n",
    "# 대화 내용 읽기\n",
    "conversation = read_conversation(file_path)\n",
    "\n",
    "# 대화 유형 분석\n",
    "result = analyze_conversation(conversation)\n",
    "print(result)\n"
   ]
  }
 ],
 "metadata": {
  "language_info": {
   "name": "python"
  }
 },
 "nbformat": 4,
 "nbformat_minor": 2
}
